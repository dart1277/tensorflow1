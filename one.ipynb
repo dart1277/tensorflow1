{
 "cells": [
  {
   "cell_type": "markdown",
   "source": [
    "### m2"
   ],
   "metadata": {
    "collapsed": false,
    "pycharm": {
     "name": "#%% md\n"
    }
   }
  },
  {
   "cell_type": "code",
   "execution_count": 2,
   "id": "90d32a0e-769a-45cd-8050-df120f134afa",
   "metadata": {
    "pycharm": {
     "name": "#%%\n"
    }
   },
   "outputs": [],
   "source": [
    "import math\n",
    "\n",
    "### sdfsd"
   ]
  },
  {
   "cell_type": "code",
   "execution_count": 4,
   "id": "aa75e2c8-96ca-4e12-b5fd-a6d96459dc58",
   "metadata": {
    "pycharm": {
     "name": "#%%\n"
    }
   },
   "outputs": [
    {
     "data": {
      "text/plain": "2.449489742783178"
     },
     "execution_count": 4,
     "metadata": {},
     "output_type": "execute_result"
    }
   ],
   "source": [
    "math.sqrt(6)"
   ]
  },
  {
   "cell_type": "code",
   "execution_count": null,
   "id": "7a32c9c1-a5a1-4b96-a8f9-de38790c7230",
   "metadata": {
    "pycharm": {
     "name": "#%%\n"
    }
   },
   "outputs": [],
   "source": [
    "### h2"
   ]
  },
  {
   "cell_type": "code",
   "execution_count": null,
   "id": "3bb598c5-4712-4bdd-9a8c-92921ab20f98",
   "metadata": {
    "pycharm": {
     "name": "#%%\n"
    }
   },
   "outputs": [],
   "source": []
  }
 ],
 "metadata": {
  "kernelspec": {
   "display_name": "Python 3 (ipykernel)",
   "language": "python",
   "name": "python3"
  },
  "language_info": {
   "codemirror_mode": {
    "name": "ipython",
    "version": 3
   },
   "file_extension": ".py",
   "mimetype": "text/x-python",
   "name": "python",
   "nbconvert_exporter": "python",
   "pygments_lexer": "ipython3",
   "version": "3.11.5"
  }
 },
 "nbformat": 4,
 "nbformat_minor": 5
}